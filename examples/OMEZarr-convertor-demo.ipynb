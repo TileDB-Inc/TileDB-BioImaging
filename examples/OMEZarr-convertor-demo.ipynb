{
 "cells": [
  {
   "cell_type": "markdown",
   "id": "84cc3b0a",
   "metadata": {},
   "source": [
    "# TileDB OME-Zarr Conversion"
   ]
  },
  {
   "cell_type": "code",
   "execution_count": 1,
   "id": "763ae030",
   "metadata": {},
   "outputs": [],
   "source": [
    "import os\n",
    "import cv2\n",
    "import matplotlib.pylab as pylab\n",
    "import tiledb\n",
    "\n",
    "\n",
    "from tiledb.bioimg.converters.ome_zarr import OMEZarrConverter\n",
    "from tiledb.bioimg.openslide import TileDBOpenSlide"
   ]
  },
  {
   "cell_type": "markdown",
   "id": "771d8ea4",
   "metadata": {},
   "source": [
    "## Convert OME-Zarr to TileDB Slide"
   ]
  },
  {
   "cell_type": "code",
   "execution_count": 2,
   "id": "391d9c25",
   "metadata": {},
   "outputs": [
    {
     "ename": "StopIteration",
     "evalue": "",
     "output_type": "error",
     "traceback": [
      "\u001B[0;31m---------------------------------------------------------------------------\u001B[0m",
      "\u001B[0;31mStopIteration\u001B[0m                             Traceback (most recent call last)",
      "Cell \u001B[0;32mIn [2], line 4\u001B[0m\n\u001B[1;32m      2\u001B[0m dest \u001B[38;5;241m=\u001B[39m src \u001B[38;5;241m+\u001B[39m \u001B[38;5;124m\"\u001B[39m\u001B[38;5;124m.tiledb\u001B[39m\u001B[38;5;124m\"\u001B[39m\n\u001B[1;32m      3\u001B[0m \u001B[38;5;28;01mif\u001B[39;00m \u001B[38;5;129;01mnot\u001B[39;00m os\u001B[38;5;241m.\u001B[39mpath\u001B[38;5;241m.\u001B[39mexists(dest):\n\u001B[0;32m----> 4\u001B[0m     \u001B[43mOMEZarrConverter\u001B[49m\u001B[38;5;241;43m.\u001B[39;49m\u001B[43mto_tiledb\u001B[49m\u001B[43m(\u001B[49m\u001B[43msrc\u001B[49m\u001B[43m,\u001B[49m\u001B[43m \u001B[49m\u001B[43mdest\u001B[49m\u001B[43m,\u001B[49m\u001B[43m \u001B[49m\u001B[43mlevel_min\u001B[49m\u001B[38;5;241;43m=\u001B[39;49m\u001B[38;5;241;43m0\u001B[39;49m\u001B[43m)\u001B[49m\n",
      "File \u001B[0;32m~/tileroot/TileDB-BioImaging/tiledb/bioimg/converters/base.py:223\u001B[0m, in \u001B[0;36mImageConverter.to_tiledb\u001B[0;34m(cls, input_path, output_path, level_min, tiles, preserve_axes, chunked, max_workers, compressor, register_kwargs, reader_kwargs, pyramid_kwargs)\u001B[0m\n\u001B[1;32m    220\u001B[0m max_tiles\u001B[38;5;241m.\u001B[39mupdate(tiles)\n\u001B[1;32m    222\u001B[0m rw_group \u001B[38;5;241m=\u001B[39m ReadWriteGroup(output_path)\n\u001B[0;32m--> 223\u001B[0m reader \u001B[38;5;241m=\u001B[39m \u001B[38;5;28;43mcls\u001B[39;49m\u001B[38;5;241;43m.\u001B[39;49m\u001B[43m_ImageReaderType\u001B[49m\u001B[43m(\u001B[49m\u001B[43minput_path\u001B[49m\u001B[43m,\u001B[49m\u001B[43m \u001B[49m\u001B[38;5;241;43m*\u001B[39;49m\u001B[38;5;241;43m*\u001B[39;49m\u001B[43mreader_kwargs\u001B[49m\u001B[43m)\u001B[49m\n\u001B[1;32m    225\u001B[0m \u001B[38;5;28;01mwith\u001B[39;00m rw_group, reader:\n\u001B[1;32m    226\u001B[0m     stored_pkg_version \u001B[38;5;241m=\u001B[39m rw_group\u001B[38;5;241m.\u001B[39mr_group\u001B[38;5;241m.\u001B[39mmeta\u001B[38;5;241m.\u001B[39mget(\u001B[38;5;124m\"\u001B[39m\u001B[38;5;124mpkg_version\u001B[39m\u001B[38;5;124m\"\u001B[39m)\n",
      "File \u001B[0;32m~/tileroot/TileDB-BioImaging/tiledb/bioimg/converters/ome_zarr.py:25\u001B[0m, in \u001B[0;36mOMEZarrReader.__init__\u001B[0;34m(self, input_path)\u001B[0m\n\u001B[1;32m     19\u001B[0m \u001B[38;5;28;01mdef\u001B[39;00m \u001B[38;5;21m__init__\u001B[39m(\u001B[38;5;28mself\u001B[39m, input_path: \u001B[38;5;28mstr\u001B[39m):\n\u001B[1;32m     20\u001B[0m     \u001B[38;5;124;03m\"\"\"\u001B[39;00m\n\u001B[1;32m     21\u001B[0m \u001B[38;5;124;03m    OME-Zarr image reader\u001B[39;00m\n\u001B[1;32m     22\u001B[0m \n\u001B[1;32m     23\u001B[0m \u001B[38;5;124;03m    :param input_path: The path to the Zarr image\u001B[39;00m\n\u001B[1;32m     24\u001B[0m \u001B[38;5;124;03m    \"\"\"\u001B[39;00m\n\u001B[0;32m---> 25\u001B[0m     root_node \u001B[38;5;241m=\u001B[39m \u001B[38;5;28;43mnext\u001B[39;49m\u001B[43m(\u001B[49m\u001B[43mReader\u001B[49m\u001B[43m(\u001B[49m\u001B[43mZarrLocation\u001B[49m\u001B[43m(\u001B[49m\u001B[43minput_path\u001B[49m\u001B[43m)\u001B[49m\u001B[43m)\u001B[49m\u001B[43m(\u001B[49m\u001B[43m)\u001B[49m\u001B[43m)\u001B[49m\n\u001B[1;32m     26\u001B[0m     \u001B[38;5;28mself\u001B[39m\u001B[38;5;241m.\u001B[39m_multiscales \u001B[38;5;241m=\u001B[39m cast(Multiscales, root_node\u001B[38;5;241m.\u001B[39mload(Multiscales))\n\u001B[1;32m     27\u001B[0m     \u001B[38;5;28mself\u001B[39m\u001B[38;5;241m.\u001B[39m_omero \u001B[38;5;241m=\u001B[39m cast(Optional[OMERO], root_node\u001B[38;5;241m.\u001B[39mload(OMERO))\n",
      "\u001B[0;31mStopIteration\u001B[0m: "
     ]
    }
   ],
   "source": [
    "src = \"../tests/data/CMU-1-Small-Region.ome.zarr\"\n",
    "dest = src + \".tiledb\"\n",
    "if not os.path.exists(dest):\n",
    "    OMEZarrConverter.to_tiledb(src, dest, level_min=0)"
   ]
  },
  {
   "cell_type": "markdown",
   "id": "1080b767",
   "metadata": {},
   "source": [
    "## Slide Group Contents"
   ]
  },
  {
   "cell_type": "code",
   "execution_count": null,
   "id": "41c3b657",
   "metadata": {},
   "outputs": [],
   "source": [
    "a = tiledb.open(os.path.join(dest,\"l_0.tdb\"))\n",
    "a.schema"
   ]
  },
  {
   "cell_type": "markdown",
   "id": "68ceb8af",
   "metadata": {},
   "source": [
    "## TileDB Slide Information"
   ]
  },
  {
   "cell_type": "code",
   "execution_count": null,
   "id": "e2629f4f",
   "metadata": {},
   "outputs": [],
   "source": [
    "slide = TileDBOpenSlide(dest)\n",
    "print(\"level_count:\", slide.level_count)\n",
    "print(\"dimensions:\", slide.dimensions)\n",
    "print(\"level_dimensions:\", slide.level_dimensions)\n",
    "print(\"level_downsamples:\", slide.level_downsamples)\n",
    "print(\"levels:\", slide.levels)\n",
    "print(\"group_properties:\", slide.properties)"
   ]
  },
  {
   "cell_type": "markdown",
   "id": "ebeda96c",
   "metadata": {},
   "source": [
    "## Reading Slide whole levels"
   ]
  },
  {
   "cell_type": "code",
   "execution_count": null,
   "id": "18d08cdb",
   "metadata": {
    "pycharm": {
     "name": "#%%\n"
    }
   },
   "outputs": [],
   "source": [
    "img3d = slide.read_level(0)\n",
    "norm_img3d = cv2.normalize(src=img3d, dst=None, alpha=0, beta=255, norm_type=cv2.NORM_MINMAX, dtype=cv2.CV_8U)\n",
    "pylab.imshow(norm_img3d)"
   ]
  },
  {
   "cell_type": "markdown",
   "id": "ece68365",
   "metadata": {
    "pycharm": {
     "name": "#%% md\n"
    }
   },
   "source": [
    "## Read a region of a level"
   ]
  },
  {
   "cell_type": "code",
   "execution_count": null,
   "id": "2da0553b",
   "metadata": {},
   "outputs": [],
   "source": [
    "img3d = slide.read_region((200,200), 0, slide.dimensions)\n",
    "norm_img3d = cv2.normalize(src=img3d, dst=None, alpha=0, beta=255, norm_type=cv2.NORM_MINMAX, dtype=cv2.CV_8U)"
   ]
  },
  {
   "cell_type": "code",
   "execution_count": null,
   "id": "138ec2ac",
   "metadata": {},
   "outputs": [],
   "source": [
    "pylab.imshow(norm_img3d)"
   ]
  },
  {
   "cell_type": "markdown",
   "id": "b868e50d",
   "metadata": {
    "pycharm": {
     "name": "#%% md\n"
    }
   },
   "source": [
    "## Read level properties"
   ]
  },
  {
   "cell_type": "code",
   "execution_count": null,
   "id": "ab0f8e23",
   "metadata": {
    "pycharm": {
     "name": "#%%\n"
    }
   },
   "outputs": [],
   "source": [
    "print(slide.level_properties(0))"
   ]
  }
 ],
 "metadata": {
  "kernelspec": {
   "display_name": "Python 3 (ipykernel)",
   "language": "python",
   "name": "python3"
  },
  "language_info": {
   "codemirror_mode": {
    "name": "ipython",
    "version": 3
   },
   "file_extension": ".py",
   "mimetype": "text/x-python",
   "name": "python",
   "nbconvert_exporter": "python",
   "pygments_lexer": "ipython3",
   "version": "3.9.15"
  }
 },
 "nbformat": 4,
 "nbformat_minor": 5
}