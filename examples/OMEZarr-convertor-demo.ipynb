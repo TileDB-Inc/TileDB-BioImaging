{
 "cells": [
  {
   "cell_type": "markdown",
   "id": "84cc3b0a",
   "metadata": {},
   "source": [
    "# TileDB OME-Zarr Conversion"
   ]
  },
  {
   "cell_type": "code",
   "execution_count": 4,
   "id": "763ae030",
   "metadata": {},
   "outputs": [],
   "source": [
    "import os\n",
    "\n",
    "import matplotlib.pylab as pylab\n",
    "import tiledb\n",
    "\n",
    "from tiledbimg.converters.ome_zarr import OMEZarrConverter\n",
    "from tiledbimg.openslide import TileDBOpenSlide"
   ]
  },
  {
   "cell_type": "markdown",
   "id": "771d8ea4",
   "metadata": {},
   "source": [
    "## Convert OME-Zarr to TileDB Slide"
   ]
  },
  {
   "cell_type": "code",
   "execution_count": 5,
   "id": "391d9c25",
   "metadata": {},
   "outputs": [],
   "source": [
    "src = \"../tests/data/CMU-1-Small-Region.ngff.zarr/0.zarr\"\n",
    "dest = src + \".tiledb\"\n",
    "if not os.path.exists(dest):\n",
    "    OMEZarrConverter().to_tiledb(src, dest, level_min=0)"
   ]
  },
  {
   "cell_type": "markdown",
   "id": "1080b767",
   "metadata": {},
   "source": [
    "## Slide Group Contents"
   ]
  },
  {
   "cell_type": "code",
   "execution_count": 6,
   "id": "41c3b657",
   "metadata": {},
   "outputs": [
    {
     "data": {
      "text/plain": "ArraySchema(\n  domain=Domain(*[\n    Dim(name='X', domain=(0, 4439), tile=1024, dtype='uint32'),\n    Dim(name='Y', domain=(0, 5933), tile=1024, dtype='uint32'),\n    Dim(name='C', domain=(0, 2), tile=3, dtype='uint32'),\n  ]),\n  attrs=[\n    Attr(name='', dtype='uint8', var=False, nullable=False, filters=FilterList([ZstdFilter(level=0), ])),\n  ],\n  cell_order='row-major',\n  tile_order='row-major',\n  capacity=10000,\n  sparse=False,\n)",
      "text/html": "<table><tr><th>Domain</th></tr><tr><td><table><tr><th>Name</th><th>Domain</th><th>Tile</th><th>Data Type</th><th>Is Var-length</th><th>Filters</th></tr><tr><td>X</td><td>(0, 4439)</td><td>1024</td><td>uint32</td><td>False</td><td>-</td></tr><tr><td>Y</td><td>(0, 5933)</td><td>1024</td><td>uint32</td><td>False</td><td>-</td></tr><tr><td>C</td><td>(0, 2)</td><td>3</td><td>uint32</td><td>False</td><td>-</td></tr></table></td></tr><tr><th>Attributes</th></tr><tr><td><table><tr><th>Name</th><th>Data Type</th><th>Is Var-Len</th><th>Is Nullable</th><th>Filters</th></tr><tr><td></td><td>uint8</td><td>False</td><td>False</td><td><section>\n<table>\n<tr>\n<th>Name</th>\n<th>Option</th>\n<th>Level</th>\n</tr>\n<tr>\n<td>ZstdFilter</td>\n<td>level</td><td>0</td></tr>\n</table>\n</section>\n</td></tr></table></td></tr><tr><th>Cell Order</th></tr><tr><td>row-major</td></tr><tr><th>Tile Order</th></tr><tr><td>row-major</td></tr><tr><th>Capacity</th></tr><tr><td>10000</td></tr><tr><th>Sparse</th></tr><tr><td>False</td></tr></table>"
     },
     "execution_count": 6,
     "metadata": {},
     "output_type": "execute_result"
    }
   ],
   "source": [
    "a = tiledb.open(os.path.join(dest,\"l_1.tdb\"))\n",
    "a.schema"
   ]
  },
  {
   "cell_type": "markdown",
   "id": "68ceb8af",
   "metadata": {},
   "source": [
    "## TileDB Slide Information"
   ]
  },
  {
   "cell_type": "code",
   "execution_count": 4,
   "id": "e2629f4f",
   "metadata": {},
   "outputs": [
    {
     "name": "stdout",
     "output_type": "stream",
     "text": [
      "level_count: 2\n",
      "dimensions: (2220, 2967)\n",
      "level_dimensions: ((2220, 2967), (4440, 5934))\n",
      "level_downsamples: (1.0, 0.5)\n",
      "level_info: (LevelInfo(dimensions=(2220, 2967)), LevelInfo(dimensions=(4440, 5934)))\n"
     ]
    }
   ],
   "source": [
    "slide = TileDBOpenSlide.from_group_uri(dest)\n",
    "print(\"level_count:\", slide.level_count)\n",
    "print(\"dimensions:\", slide.dimensions)\n",
    "print(\"level_dimensions:\", slide.level_dimensions)\n",
    "print(\"level_downsamples:\", slide.level_downsamples)\n",
    "print(\"level_info:\", slide.level_info)"
   ]
  },
  {
   "cell_type": "markdown",
   "id": "ebeda96c",
   "metadata": {},
   "source": [
    "## Reading Slide Data"
   ]
  },
  {
   "cell_type": "code",
   "execution_count": 10,
   "id": "2da0553b",
   "metadata": {},
   "outputs": [
    {
     "ename": "NameError",
     "evalue": "name 'cv2' is not defined",
     "output_type": "error",
     "traceback": [
      "\u001B[0;31m---------------------------------------------------------------------------\u001B[0m",
      "\u001B[0;31mNameError\u001B[0m                                 Traceback (most recent call last)",
      "Cell \u001B[0;32mIn [10], line 2\u001B[0m\n\u001B[1;32m      1\u001B[0m img3d \u001B[38;5;241m=\u001B[39m slide\u001B[38;5;241m.\u001B[39mread_region((\u001B[38;5;241m0\u001B[39m,\u001B[38;5;241m0\u001B[39m), \u001B[38;5;241m0\u001B[39m, slide\u001B[38;5;241m.\u001B[39mdimensions)\n\u001B[0;32m----> 2\u001B[0m norm_img3d \u001B[38;5;241m=\u001B[39m \u001B[43mcv2\u001B[49m\u001B[38;5;241m.\u001B[39mnormalize(src\u001B[38;5;241m=\u001B[39mimg3d, dst\u001B[38;5;241m=\u001B[39m\u001B[38;5;28;01mNone\u001B[39;00m, alpha\u001B[38;5;241m=\u001B[39m\u001B[38;5;241m0\u001B[39m, beta\u001B[38;5;241m=\u001B[39m\u001B[38;5;241m255\u001B[39m, norm_type\u001B[38;5;241m=\u001B[39mcv2\u001B[38;5;241m.\u001B[39mNORM_MINMAX, dtype\u001B[38;5;241m=\u001B[39mcv2\u001B[38;5;241m.\u001B[39mCV_8U)\n",
      "\u001B[0;31mNameError\u001B[0m: name 'cv2' is not defined"
     ]
    }
   ],
   "source": [
    "img3d = slide.read_region((0,0), 0, slide.dimensions)\n",
    "norm_img3d = cv2.normalize(src=img3d, dst=None, alpha=0, beta=255, norm_type=cv2.NORM_MINMAX, dtype=cv2.CV_8U)"
   ]
  },
  {
   "cell_type": "code",
   "execution_count": null,
   "id": "138ec2ac",
   "metadata": {},
   "outputs": [],
   "source": [
    "pylab.imshow(norm_img3d)"
   ]
  }
 ],
 "metadata": {
  "kernelspec": {
   "display_name": "Python 3 (ipykernel)",
   "language": "python",
   "name": "python3"
  },
  "language_info": {
   "codemirror_mode": {
    "name": "ipython",
    "version": 3
   },
   "file_extension": ".py",
   "mimetype": "text/x-python",
   "name": "python",
   "nbconvert_exporter": "python",
   "pygments_lexer": "ipython3",
   "version": "3.9.15"
  }
 },
 "nbformat": 4,
 "nbformat_minor": 5
}