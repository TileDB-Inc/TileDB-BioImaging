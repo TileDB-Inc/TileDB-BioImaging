{
 "cells": [
  {
   "cell_type": "markdown",
   "id": "84cc3b0a",
   "metadata": {},
   "source": [
    "# TileDB OME-TIFF Conversion"
   ]
  },
  {
   "cell_type": "code",
   "execution_count": 44,
   "id": "763ae030",
   "metadata": {},
   "outputs": [],
   "source": [
    "import sys\n",
    "import os\n",
    "import tiledb\n",
    "import numpy as np\n",
    "from tiledbimg.util.convert_tiff import OMETiffConverter"
   ]
  },
  {
   "cell_type": "markdown",
   "id": "e4b92ab9",
   "metadata": {},
   "source": [
    "# Input Data\n",
    "\n",
    "Available from `s3://tiledb-isaiah2/jjdemo/test4-convert/C3N-02572-22.svs`"
   ]
  },
  {
   "cell_type": "code",
   "execution_count": 6,
   "id": "28f7c9aa",
   "metadata": {},
   "outputs": [
    {
     "name": "stdout",
     "output_type": "stream",
     "text": [
      "CMU-1-Small-Region.svs.tiff  ome-tiff-demo.ipynb\r\n",
      "\u001b[34mCMU-1-Small-Region.tiledb\u001b[m\u001b[m/   \u001b[34mtiledbimg\u001b[m\u001b[m/\r\n"
     ]
    }
   ],
   "source": [
    "ls"
   ]
  },
  {
   "cell_type": "markdown",
   "id": "c0328633",
   "metadata": {},
   "source": [
    "## Convert SVS to OME-TIFF\n",
    "\n",
    "Using bfconvert. from Bio-Formats Command Line Tools.\n",
    "Available here: https://www.openmicroscopy.org/bio-formats/downloads/"
   ]
  },
  {
   "cell_type": "code",
   "execution_count": 7,
   "id": "2dd2c6c8",
   "metadata": {},
   "outputs": [
    {
     "name": "stdout",
     "output_type": "stream",
     "text": [
      "CMU-1-Small-Region.svs.tiff\n",
      "SVSReader initializing CMU-1-Small-Region.svs.tiff\n",
      "Reading IFDs\n",
      "Populating metadata\n",
      "Populating OME metadata\n",
      "[Aperio SVS] -> CMU-1-Small-Region.ome.tiff [OME-TIFF]\n",
      "\tSeries 0: converted 1/1 planes (100%)\n",
      "\tSeries 0: converted 1/1 planes (100%)\n",
      "\tSeries 1: converted 1/1 planes (100%)\n",
      "\tSeries 2: converted 1/1 planes (100%)\n",
      "[done]\n",
      "6.612s elapsed (210.75+1169.75ms per plane, 829ms overhead)\n"
     ]
    }
   ],
   "source": [
    "!/Users/kimiatajik/repos/bioformats-6.10.1/tools/bfconvert -noflat -compression JPEG CMU-1-Small-Region.svs.tiff CMU-1-Small-Region.ome.tiff"
   ]
  },
  {
   "cell_type": "code",
   "execution_count": 8,
   "id": "79a73f3f",
   "metadata": {},
   "outputs": [
    {
     "name": "stdout",
     "output_type": "stream",
     "text": [
      "CMU-1-Small-Region.ome.tiff  ome-tiff-demo.ipynb\r\n",
      "CMU-1-Small-Region.svs.tiff  \u001b[34mtiledbimg\u001b[m\u001b[m/\r\n"
     ]
    }
   ],
   "source": [
    "ls"
   ]
  },
  {
   "cell_type": "markdown",
   "id": "771d8ea4",
   "metadata": {},
   "source": [
    "# Convert to TileDB Slide"
   ]
  },
  {
   "cell_type": "code",
   "execution_count": 9,
   "id": "99bfdb0f",
   "metadata": {},
   "outputs": [],
   "source": [
    "### Remove existing group\n",
    "!rm -rf CMU-1-Small-Region"
   ]
  },
  {
   "cell_type": "code",
   "execution_count": 10,
   "id": "08c6deef",
   "metadata": {},
   "outputs": [
    {
     "name": "stdout",
     "output_type": "stream",
     "text": [
      "Processing level with shape:  (2220, 2967, 3)\n",
      "Processing level with shape:  (387, 463, 3)\n",
      "Processing level with shape:  (1280, 431, 3)\n"
     ]
    }
   ],
   "source": [
    "cnv = OMETiffConverter()\n",
    "cnv.convert_image(\"CMU-1-Small-Region.ome.tiff\", \"CMU-1-Small-Region.tiledb\", level_min=0)"
   ]
  },
  {
   "cell_type": "markdown",
   "id": "1080b767",
   "metadata": {},
   "source": [
    "## Slide Group Contents"
   ]
  },
  {
   "cell_type": "code",
   "execution_count": 11,
   "id": "d3ed0c9b",
   "metadata": {},
   "outputs": [
    {
     "name": "stdout",
     "output_type": "stream",
     "text": [
      "\u001b[34m__group\u001b[m\u001b[m/            __tiledb_group.tdb  \u001b[34ml_1.tdb\u001b[m\u001b[m/\r\n",
      "\u001b[34m__meta\u001b[m\u001b[m/             \u001b[34ml_0.tdb\u001b[m\u001b[m/            \u001b[34ml_2.tdb\u001b[m\u001b[m/\r\n"
     ]
    }
   ],
   "source": [
    "ls CMU-1-Small-Region.tiledb"
   ]
  },
  {
   "cell_type": "code",
   "execution_count": 12,
   "id": "41c3b657",
   "metadata": {},
   "outputs": [],
   "source": [
    "a = tiledb.open(\"CMU-1-Small-Region.tiledb/l_0.tdb\")"
   ]
  },
  {
   "cell_type": "code",
   "execution_count": 13,
   "id": "5fa52279",
   "metadata": {},
   "outputs": [
    {
     "name": "stdout",
     "output_type": "stream",
     "text": [
      "ArraySchema(\n",
      "  domain=Domain(*[\n",
      "    Dim(name='X', domain=(0, 2219), tile=1024, dtype='uint64'),\n",
      "    Dim(name='Y', domain=(0, 2966), tile=1024, dtype='uint64'),\n",
      "  ]),\n",
      "  attrs=[\n",
      "    Attr(name='rgb', dtype='[('f0', 'u1'), ('f1', 'u1'), ('f2', 'u1')]', var=False, nullable=False, filters=FilterList([ZstdFilter(level=0), ])),\n",
      "  ],\n",
      "  cell_order='row-major',\n",
      "  tile_order='row-major',\n",
      "  capacity=10000,\n",
      "  sparse=False,\n",
      ")\n",
      "\n"
     ]
    }
   ],
   "source": [
    "print(a.schema)"
   ]
  },
  {
   "cell_type": "markdown",
   "id": "68ceb8af",
   "metadata": {},
   "source": [
    "# TileDB Slide Information"
   ]
  },
  {
   "cell_type": "code",
   "execution_count": 14,
   "id": "92f37a47",
   "metadata": {},
   "outputs": [],
   "source": [
    "from tiledbimg.openslide import TileDBOpenSlide"
   ]
  },
  {
   "cell_type": "code",
   "execution_count": 15,
   "id": "e2629f4f",
   "metadata": {},
   "outputs": [
    {
     "name": "stdout",
     "output_type": "stream",
     "text": [
      "[DEBUG] slide_group_uri: CMU-1-Small-Region.tiledb\n"
     ]
    }
   ],
   "source": [
    "slide = TileDBOpenSlide.from_group_uri(\"CMU-1-Small-Region.tiledb\")"
   ]
  },
  {
   "cell_type": "code",
   "execution_count": 16,
   "id": "0f0c1c9a",
   "metadata": {},
   "outputs": [
    {
     "data": {
      "text/plain": [
       "3"
      ]
     },
     "execution_count": 16,
     "metadata": {},
     "output_type": "execute_result"
    }
   ],
   "source": [
    "slide.level_count"
   ]
  },
  {
   "cell_type": "code",
   "execution_count": 17,
   "id": "7bede713",
   "metadata": {},
   "outputs": [
    {
     "name": "stdout",
     "output_type": "stream",
     "text": [
      "((2220, 2967), (387, 463), (1280, 431))\n",
      "(2220, 2967)\n"
     ]
    }
   ],
   "source": [
    "print(slide.level_dimensions)\n",
    "print(slide.dimensions)"
   ]
  },
  {
   "cell_type": "markdown",
   "id": "ebeda96c",
   "metadata": {},
   "source": [
    "## Reading Slide Data"
   ]
  },
  {
   "cell_type": "code",
   "execution_count": 18,
   "id": "2da0553b",
   "metadata": {},
   "outputs": [],
   "source": [
    "img = slide.read_region((0,0), 0, slide.dimensions)"
   ]
  },
  {
   "cell_type": "code",
   "execution_count": 55,
   "id": "420cacd7",
   "metadata": {},
   "outputs": [
    {
     "name": "stdout",
     "output_type": "stream",
     "text": [
      "<class 'numpy.ndarray'>\n",
      "(2220, 2967)\n",
      "()\n",
      "<class 'numpy.void'>\n",
      "221\n",
      "<class 'numpy.void'>\n",
      "<class 'numpy.ndarray'>\n",
      "<class 'int'>\n"
     ]
    }
   ],
   "source": [
    "print(type(img))\n",
    "print(img.shape)\n",
    "print(img[0,0].shape)\n",
    "print(type(img[0,0]))\n",
    "print(img[0,0][0])\n",
    "print(type(img[0,0]))\n",
    "print(type(img[:,:][:]))\n",
    "print(type(img.shape[0]))\n",
    "\n",
    "\n",
    "new_img_2 = np.zeros((1,2,3))\n",
    "new_img = np.zeros((img.shape[0], img.shape[1], 3))\n",
    "for i in range(img.shape[0]): \n",
    "    for j in range(img.shape[1]):\n",
    "        for k in range(3):\n",
    "            new_img[i,j,k] = np.uint8(img[i,j][k])"
   ]
  },
  {
   "cell_type": "code",
   "execution_count": 56,
   "id": "a74f81c9",
   "metadata": {},
   "outputs": [],
   "source": [
    "import matplotlib.pylab as pylab\n",
    "import matplotlib.pyplot as plt\n",
    "\n"
   ]
  },
  {
   "cell_type": "code",
   "execution_count": 60,
   "id": "f724a393",
   "metadata": {},
   "outputs": [
    {
     "name": "stderr",
     "output_type": "stream",
     "text": [
      "Clipping input data to the valid range for imshow with RGB data ([0..1] for floats or [0..255] for integers).\n"
     ]
    },
    {
     "data": {
      "text/plain": [
       "<matplotlib.image.AxesImage at 0x7fa370acf730>"
      ]
     },
     "execution_count": 60,
     "metadata": {},
     "output_type": "execute_result"
    },
    {
     "data": {
      "image/png": "[encoded data removed]",
      "text/plain": [
       "<Figure size 432x288 with 1 Axes>"
      ]
     },
     "metadata": {
      "needs_background": "light"
     },
     "output_type": "display_data"
    }
   ],
   "source": [
    "#new_img.shape\n",
    "#pylab.imshow(new_img)\n",
    "plt.imshow(new_img)"
   ]
  },
  {
   "cell_type": "code",
   "execution_count": 61,
   "id": "cd7f1408",
   "metadata": {},
   "outputs": [],
   "source": [
    "new_img_2 = np.zeros((1,2,3))"
   ]
  },
  {
   "cell_type": "code",
   "execution_count": 64,
   "id": "a02491b7",
   "metadata": {},
   "outputs": [
    {
     "name": "stdout",
     "output_type": "stream",
     "text": [
      "[[[0. 0. 0.]\n",
      "  [0. 0. 0.]]]\n"
     ]
    }
   ],
   "source": [
    "print(new_img_2)"
   ]
  },
  {
   "cell_type": "code",
   "execution_count": 73,
   "id": "c79b2e40",
   "metadata": {},
   "outputs": [
    {
     "name": "stdout",
     "output_type": "stream",
     "text": [
      "<class 'numpy.float64'>\n"
     ]
    }
   ],
   "source": [
    "print(type(new_img[0,0,1]))"
   ]
  },
  {
   "cell_type": "code",
   "execution_count": 74,
   "id": "5e97b73b",
   "metadata": {},
   "outputs": [
    {
     "name": "stdout",
     "output_type": "stream",
     "text": [
      "<class 'numpy.uint8'>\n"
     ]
    }
   ],
   "source": [
    "print(type(img[0,0][2]))"
   ]
  },
  {
   "cell_type": "code",
   "execution_count": null,
   "id": "d4ac11b2",
   "metadata": {},
   "outputs": [],
   "source": []
  }
 ],
 "metadata": {
  "kernelspec": {
   "display_name": "Python 3 (ipykernel)",
   "language": "python",
   "name": "python3"
  },
  "language_info": {
   "codemirror_mode": {
    "name": "ipython",
    "version": 3
   },
   "file_extension": ".py",
   "mimetype": "text/x-python",
   "name": "python",
   "nbconvert_exporter": "python",
   "pygments_lexer": "ipython3",
   "version": "3.10.4"
  }
 },
 "nbformat": 4,
 "nbformat_minor": 5
}
