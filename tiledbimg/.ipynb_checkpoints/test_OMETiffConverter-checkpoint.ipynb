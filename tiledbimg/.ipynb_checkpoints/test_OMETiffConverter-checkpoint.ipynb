{
 "cells": [
  {
   "cell_type": "code",
   "execution_count": 5,
   "metadata": {},
   "outputs": [],
   "source": [
    "import tiledb\n",
    "import numpy as np\n",
    "import os\n",
    "import openslide as osld"
   ]
  },
  {
   "cell_type": "code",
   "execution_count": 8,
   "metadata": {},
   "outputs": [
    {
     "ename": "ModuleNotFoundError",
     "evalue": "No module named 'tiledb.tiledbopenslide'",
     "output_type": "error",
     "traceback": [
      "\u001b[0;31m---------------------------------------------------------------------------\u001b[0m",
      "\u001b[0;31mModuleNotFoundError\u001b[0m                       Traceback (most recent call last)",
      "Input \u001b[0;32mIn [8]\u001b[0m, in \u001b[0;36m<cell line: 1>\u001b[0;34m()\u001b[0m\n\u001b[0;32m----> 1\u001b[0m \u001b[38;5;28;01mfrom\u001b[39;00m \u001b[38;5;21;01mtiledb\u001b[39;00m\u001b[38;5;21;01m.\u001b[39;00m\u001b[38;5;21;01mtiledbopenslide\u001b[39;00m \u001b[38;5;28;01mimport\u001b[39;00m TileDBOpenSlide, LevelInfo, SlideInfo\n",
      "\u001b[0;31mModuleNotFoundError\u001b[0m: No module named 'tiledb.tiledbopenslide'"
     ]
    }
   ],
   "source": [
    "from tiledb.tiledbopenslide import TileDBOpenSlide, LevelInfo, SlideInfo"
   ]
  },
  {
   "cell_type": "code",
   "execution_count": null,
   "metadata": {},
   "outputs": [],
   "source": [
    "g_uri = \"/Users/inorton/work/scratch/2022/0711-jnj-path-demo/test4-small/convert-test/C3N-02572-22.tdg\"\n",
    "svs_uri = \"/Users/inorton/work/scratch/2022/0711-jnj-path-demo/test4-small/convert-test/C3N-02572-22.svs\""
   ]
  },
  {
   "cell_type": "code",
   "execution_count": null,
   "metadata": {},
   "outputs": [],
   "source": [
    "def _check_level_info(num, info):\n",
    "    assert(info.level == num)\n",
    "    assert(tiledb.object_type(info.uri) == 'array')\n",
    "    assert(isinstance(info.schema, tiledb.ArraySchema))"
   ]
  },
  {
   "cell_type": "code",
   "execution_count": null,
   "metadata": {},
   "outputs": [],
   "source": [
    "def test_level_info():\n",
    "    l0_uri = os.path.join(g_uri, \"l_0.tdb\")\n",
    "    l0_info = LevelInfo.from_array(l0_uri, 0)\n",
    "    _check_level_info(0, l0_info)\n",
    "#%%\n",
    "def test_open_slide():\n",
    "    t = TileDBOpenSlide.from_group_uri(g_uri)\n",
    "    for l_num,l_info in enumerate(t._level_infos):\n",
    "        _check_level_info(l_num, l_info)\n",
    "    os_img = osld.open_slide(svs_uri)\n",
    "    assert(\n",
    "        t.dimensions == os_img.dimensions\n",
    "    )\n",
    "    assert(\n",
    "        t.level_count == os_img.level_count\n",
    "    )\n",
    "    assert(\n",
    "        t.level_dimensions == os_img.level_dimensions\n",
    "    )\n",
    "    assert(\n",
    "        t.level_downsamples == os_img.level_downsamples\n",
    "    )\n",
    "    assert(\n",
    "        t.get_best_level_for_downsample(32) == 2 == os_img.get_best_level_for_downsample(32)\n",
    "    )\n",
    "    assert(\n",
    "        t.get_best_level_for_downsample(3.9) == 0 == os_img.get_best_level_for_downsample(3.9)\n",
    "    )\n",
    "    assert(\n",
    "        t.get_best_level_for_downsample(4.1) == 1 == os_img.get_best_level_for_downsample(4.1)\n",
    "    )\n",
    "    assert(\n",
    "        t.get_best_level_for_downsample(2.9) == 0 == os_img.get_best_level_for_downsample(2.9)\n",
    "    )\n",
    "    assert(\n",
    "        t.get_best_level_for_downsample(1) == 0 == os_img.get_best_level_for_downsample(1)\n",
    "    )\n",
    "def test_slide_info():\n",
    "    factor = 32\n",
    "    slinfo = SlideInfo.from_group_uri(factor, g_uri)\n",
    "    assert(\n",
    "        slinfo.factor == factor\n",
    "    )\n",
    "    assert(\n",
    "        slinfo.slide == TileDBOpenSlide.from_group_uri(g_uri)\n",
    "    )"
   ]
  },
  {
   "cell_type": "code",
   "execution_count": null,
   "metadata": {},
   "outputs": [],
   "source": [
    "import pytest\n",
    "pytest.main()"
   ]
  }
 ],
 "metadata": {
  "kernelspec": {
   "display_name": "Python 3 (ipykernel)",
   "language": "python",
   "name": "python3"
  },
  "language_info": {
   "codemirror_mode": {
    "name": "ipython",
    "version": 3
   },
   "file_extension": ".py",
   "mimetype": "text/x-python",
   "name": "python",
   "nbconvert_exporter": "python",
   "pygments_lexer": "ipython3",
   "version": "3.10.4"
  }
 },
 "nbformat": 4,
 "nbformat_minor": 2
}
