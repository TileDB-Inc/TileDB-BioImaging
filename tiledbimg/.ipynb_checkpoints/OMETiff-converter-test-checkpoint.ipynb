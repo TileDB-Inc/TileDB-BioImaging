{
 "cells": [
  {
   "cell_type": "code",
   "execution_count": 67,
   "metadata": {},
   "outputs": [],
   "source": [
    "import tiledb \n",
    "import numpy as np\n",
    "import os\n",
    "import openslide as osld\n",
    "import pytest\n",
    "import tifffile"
   ]
  },
  {
   "cell_type": "code",
   "execution_count": 65,
   "metadata": {},
   "outputs": [],
   "source": [
    "from openslide import TileDBOpenSlide, LevelInfo, SlideInfo"
   ]
  },
  {
   "cell_type": "code",
   "execution_count": 66,
   "metadata": {},
   "outputs": [],
   "source": [
    "ometiff_uri = \"../CMU-1-Small-Region.ome.tiff\"\n",
    "g_uri = \"../CMU-1-Small-Region.tiledb\""
   ]
  },
  {
   "cell_type": "code",
   "execution_count": 43,
   "metadata": {},
   "outputs": [],
   "source": [
    "def test_ome_tiff():\n",
    "    ometiff_img = tifffile.TiffFile(ometiff_uri)\n",
    "    t = TileDBOpenSlide.from_group_uri(g_uri)\n",
    "    assert(\n",
    "        t.level_count == len(ometiff_img.series)\n",
    "    )\n",
    "#     assert(\n",
    "#         t.dimensions == ometiff_img.dimensions\n",
    "#     )\n",
    "#     assert(\n",
    "#         t.level_dimensions == ometiff_img.level_dimensions\n",
    "#     )\n",
    "#     assert(\n",
    "#         t.level_downsamples == ometiff.level_downsamples\n",
    "#     )\n",
    "#     assert(\n",
    "#         t.level_info == ometiff_img.level_info\n",
    "#     )"
   ]
  },
  {
   "cell_type": "code",
   "execution_count": 25,
   "metadata": {},
   "outputs": [],
   "source": [
    "#pytest.main()"
   ]
  },
  {
   "cell_type": "code",
   "execution_count": 83,
   "metadata": {},
   "outputs": [
    {
     "data": {
      "text/plain": [
       "(3, 2967, 2220)"
      ]
     },
     "execution_count": 83,
     "metadata": {},
     "output_type": "execute_result"
    }
   ],
   "source": [
    "ometiff_img.pages[0].shape"
   ]
  },
  {
   "cell_type": "code",
   "execution_count": 76,
   "metadata": {},
   "outputs": [
    {
     "data": {
      "text/plain": [
       "((2220, 2967), (387, 463), (1280, 431))"
      ]
     },
     "execution_count": 76,
     "metadata": {},
     "output_type": "execute_result"
    }
   ],
   "source": [
    "t.level_dimensions"
   ]
  },
  {
   "cell_type": "code",
   "execution_count": 84,
   "metadata": {},
   "outputs": [
    {
     "name": "stdout",
     "output_type": "stream",
     "text": [
      "(2220, 2967)\n",
      "3\n",
      "((2220, 2967), (387, 463), (1280, 431))\n",
      "None\n",
      "[LevelInfo(level=0, shape=(2220, 2967)), LevelInfo(level=1, shape=(387, 463)), LevelInfo(level=2, shape=(1280, 431))]\n"
     ]
    }
   ],
   "source": [
    "print(t.dimensions)\n",
    "print(t.level_count)\n",
    "print(t.level_dimensions)\n",
    "print(t.level_downsamples)\n",
    "print(t.level_info)"
   ]
  },
  {
   "cell_type": "code",
   "execution_count": 85,
   "metadata": {},
   "outputs": [
    {
     "data": {
      "text/plain": [
       "(3, 2967, 2220)"
      ]
     },
     "execution_count": 85,
     "metadata": {},
     "output_type": "execute_result"
    }
   ],
   "source": [
    "ometiff_img.series[0].shape"
   ]
  },
  {
   "cell_type": "code",
   "execution_count": null,
   "metadata": {},
   "outputs": [],
   "source": []
  }
 ],
 "metadata": {
  "kernelspec": {
   "display_name": "Python 3 (ipykernel)",
   "language": "python",
   "name": "python3"
  },
  "language_info": {
   "codemirror_mode": {
    "name": "ipython",
    "version": 3
   },
   "file_extension": ".py",
   "mimetype": "text/x-python",
   "name": "python",
   "nbconvert_exporter": "python",
   "pygments_lexer": "ipython3",
   "version": "3.10.4"
  }
 },
 "nbformat": 4,
 "nbformat_minor": 2
}
